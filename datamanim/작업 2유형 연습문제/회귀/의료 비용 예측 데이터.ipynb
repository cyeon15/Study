{
 "cells": [
  {
   "cell_type": "markdown",
   "metadata": {},
   "source": [
    "**의료 비용 예측 데이터**\n",
    "==="
   ]
  },
  {
   "cell_type": "markdown",
   "metadata": {},
   "source": [
    "Attention\n",
    "===\n",
    "\n",
    "데이터 설명 : 의료비용 예측문제 (종속변수 : charges)   \n",
    "x_train: https://raw.githubusercontent.com/Datamanim/datarepo/main/MedicalCost/x_train.csv   \n",
    "y_train: https://raw.githubusercontent.com/Datamanim/datarepo/main/MedicalCost/y_train.csv    \n",
    "x_test: https://raw.githubusercontent.com/Datamanim/datarepo/main/MedicalCost/x_test.csv   \n",
    "x_label(평가용) : https://raw.githubusercontent.com/Datamanim/datarepo/main/MedicalCost/y_test.csv   \n",
    "데이터 출처 :https://www.kaggle.com/mirichoi0218/insurance/code(참고, 데이터 수정)"
   ]
  },
  {
   "cell_type": "code",
   "execution_count": 1,
   "metadata": {},
   "outputs": [
    {
     "data": {
      "text/html": [
       "<div>\n",
       "<style scoped>\n",
       "    .dataframe tbody tr th:only-of-type {\n",
       "        vertical-align: middle;\n",
       "    }\n",
       "\n",
       "    .dataframe tbody tr th {\n",
       "        vertical-align: top;\n",
       "    }\n",
       "\n",
       "    .dataframe thead th {\n",
       "        text-align: right;\n",
       "    }\n",
       "</style>\n",
       "<table border=\"1\" class=\"dataframe\">\n",
       "  <thead>\n",
       "    <tr style=\"text-align: right;\">\n",
       "      <th></th>\n",
       "      <th>ID</th>\n",
       "      <th>age</th>\n",
       "      <th>sex</th>\n",
       "      <th>bmi</th>\n",
       "      <th>children</th>\n",
       "      <th>smoker</th>\n",
       "      <th>region</th>\n",
       "    </tr>\n",
       "  </thead>\n",
       "  <tbody>\n",
       "    <tr>\n",
       "      <th>0</th>\n",
       "      <td>2</td>\n",
       "      <td>35</td>\n",
       "      <td>female</td>\n",
       "      <td>35.860</td>\n",
       "      <td>2</td>\n",
       "      <td>no</td>\n",
       "      <td>southeast</td>\n",
       "    </tr>\n",
       "    <tr>\n",
       "      <th>1</th>\n",
       "      <td>3</td>\n",
       "      <td>28</td>\n",
       "      <td>female</td>\n",
       "      <td>23.845</td>\n",
       "      <td>2</td>\n",
       "      <td>no</td>\n",
       "      <td>northwest</td>\n",
       "    </tr>\n",
       "    <tr>\n",
       "      <th>2</th>\n",
       "      <td>4</td>\n",
       "      <td>23</td>\n",
       "      <td>female</td>\n",
       "      <td>32.780</td>\n",
       "      <td>2</td>\n",
       "      <td>yes</td>\n",
       "      <td>southeast</td>\n",
       "    </tr>\n",
       "    <tr>\n",
       "      <th>3</th>\n",
       "      <td>6</td>\n",
       "      <td>52</td>\n",
       "      <td>female</td>\n",
       "      <td>25.300</td>\n",
       "      <td>2</td>\n",
       "      <td>yes</td>\n",
       "      <td>southeast</td>\n",
       "    </tr>\n",
       "    <tr>\n",
       "      <th>4</th>\n",
       "      <td>7</td>\n",
       "      <td>63</td>\n",
       "      <td>male</td>\n",
       "      <td>39.800</td>\n",
       "      <td>3</td>\n",
       "      <td>no</td>\n",
       "      <td>southwest</td>\n",
       "    </tr>\n",
       "  </tbody>\n",
       "</table>\n",
       "</div>"
      ],
      "text/plain": [
       "   ID  age     sex     bmi  children smoker     region\n",
       "0   2   35  female  35.860         2     no  southeast\n",
       "1   3   28  female  23.845         2     no  northwest\n",
       "2   4   23  female  32.780         2    yes  southeast\n",
       "3   6   52  female  25.300         2    yes  southeast\n",
       "4   7   63    male  39.800         3     no  southwest"
      ]
     },
     "metadata": {},
     "output_type": "display_data"
    },
    {
     "data": {
      "text/html": [
       "<div>\n",
       "<style scoped>\n",
       "    .dataframe tbody tr th:only-of-type {\n",
       "        vertical-align: middle;\n",
       "    }\n",
       "\n",
       "    .dataframe tbody tr th {\n",
       "        vertical-align: top;\n",
       "    }\n",
       "\n",
       "    .dataframe thead th {\n",
       "        text-align: right;\n",
       "    }\n",
       "</style>\n",
       "<table border=\"1\" class=\"dataframe\">\n",
       "  <thead>\n",
       "    <tr style=\"text-align: right;\">\n",
       "      <th></th>\n",
       "      <th>ID</th>\n",
       "      <th>charges</th>\n",
       "    </tr>\n",
       "  </thead>\n",
       "  <tbody>\n",
       "    <tr>\n",
       "      <th>0</th>\n",
       "      <td>2</td>\n",
       "      <td>5836.52040</td>\n",
       "    </tr>\n",
       "    <tr>\n",
       "      <th>1</th>\n",
       "      <td>3</td>\n",
       "      <td>4719.73655</td>\n",
       "    </tr>\n",
       "    <tr>\n",
       "      <th>2</th>\n",
       "      <td>4</td>\n",
       "      <td>36021.01120</td>\n",
       "    </tr>\n",
       "    <tr>\n",
       "      <th>3</th>\n",
       "      <td>6</td>\n",
       "      <td>24667.41900</td>\n",
       "    </tr>\n",
       "    <tr>\n",
       "      <th>4</th>\n",
       "      <td>7</td>\n",
       "      <td>15170.06900</td>\n",
       "    </tr>\n",
       "  </tbody>\n",
       "</table>\n",
       "</div>"
      ],
      "text/plain": [
       "   ID      charges\n",
       "0   2   5836.52040\n",
       "1   3   4719.73655\n",
       "2   4  36021.01120\n",
       "3   6  24667.41900\n",
       "4   7  15170.06900"
      ]
     },
     "metadata": {},
     "output_type": "display_data"
    }
   ],
   "source": [
    "import pandas as pd\n",
    "#데이터 로드\n",
    "x_train = pd.read_csv(\"https://raw.githubusercontent.com/Datamanim/datarepo/main/MedicalCost/x_train.csv\")\n",
    "y_train = pd.read_csv(\"https://raw.githubusercontent.com/Datamanim/datarepo/main/MedicalCost/y_train.csv\")\n",
    "x_test= pd.read_csv(\"https://raw.githubusercontent.com/Datamanim/datarepo/main/MedicalCost/x_test.csv\")\n",
    "\n",
    "\n",
    "display(x_train.head())\n",
    "display(y_train.head())"
   ]
  },
  {
   "cell_type": "code",
   "execution_count": 4,
   "metadata": {},
   "outputs": [
    {
     "name": "stdout",
     "output_type": "stream",
     "text": [
      "<class 'pandas.core.frame.DataFrame'>\n",
      "RangeIndex: 1070 entries, 0 to 1069\n",
      "Data columns (total 7 columns):\n",
      " #   Column    Non-Null Count  Dtype  \n",
      "---  ------    --------------  -----  \n",
      " 0   ID        1070 non-null   int64  \n",
      " 1   age       1070 non-null   int64  \n",
      " 2   sex       1070 non-null   object \n",
      " 3   bmi       1070 non-null   float64\n",
      " 4   children  1070 non-null   int64  \n",
      " 5   smoker    1070 non-null   object \n",
      " 6   region    1070 non-null   object \n",
      "dtypes: float64(1), int64(3), object(3)\n",
      "memory usage: 58.6+ KB\n"
     ]
    },
    {
     "data": {
      "text/plain": [
       "ID          1070\n",
       "age           47\n",
       "sex            2\n",
       "bmi          506\n",
       "children       6\n",
       "smoker         2\n",
       "region         4\n",
       "dtype: int64"
      ]
     },
     "execution_count": 4,
     "metadata": {},
     "output_type": "execute_result"
    }
   ],
   "source": [
    "x_train.info()\n",
    "x_train.nunique()"
   ]
  },
  {
   "cell_type": "code",
   "execution_count": 5,
   "metadata": {},
   "outputs": [
    {
     "name": "stdout",
     "output_type": "stream",
     "text": [
      "<class 'pandas.core.frame.DataFrame'>\n",
      "RangeIndex: 268 entries, 0 to 267\n",
      "Data columns (total 7 columns):\n",
      " #   Column    Non-Null Count  Dtype  \n",
      "---  ------    --------------  -----  \n",
      " 0   ID        268 non-null    int64  \n",
      " 1   age       268 non-null    int64  \n",
      " 2   sex       268 non-null    object \n",
      " 3   bmi       268 non-null    float64\n",
      " 4   children  268 non-null    int64  \n",
      " 5   smoker    268 non-null    object \n",
      " 6   region    268 non-null    object \n",
      "dtypes: float64(1), int64(3), object(3)\n",
      "memory usage: 14.8+ KB\n"
     ]
    },
    {
     "data": {
      "text/plain": [
       "ID          268\n",
       "age          47\n",
       "sex           2\n",
       "bmi         215\n",
       "children      6\n",
       "smoker        2\n",
       "region        4\n",
       "dtype: int64"
      ]
     },
     "execution_count": 5,
     "metadata": {},
     "output_type": "execute_result"
    }
   ],
   "source": [
    "x_test.info()\n",
    "x_test.nunique()"
   ]
  },
  {
   "cell_type": "code",
   "execution_count": 8,
   "metadata": {},
   "outputs": [
    {
     "data": {
      "text/plain": [
       "array([42290.1145652 ,  8545.5106115 ,  2860.548223  ,  3092.1015742 ,\n",
       "        6198.8169283 ,  7044.3404744 , 10650.9614508 , 43648.4055693 ,\n",
       "       12697.3937173 , 21092.5123996 ,  6972.5706273 , 16004.6985386 ,\n",
       "       43084.9382227 ,  2858.266235  , 46848.2494557 ,  6209.299099  ,\n",
       "        6188.12467871,  7059.1972122 , 15016.4598763 , 14517.9064674 ,\n",
       "        6052.7299941 , 12901.1967855 , 11757.7261071 , 11325.8734304 ,\n",
       "       13770.4233261 ,  6572.7800025 ,  6832.0917507 ,  1733.664411  ,\n",
       "       10469.1766797 , 44060.0488567 , 42838.3264313 ,  2161.4282485 ,\n",
       "        6749.1074413 ,  8242.3787787 ,  7841.1898539 , 25089.3810645 ,\n",
       "        6258.1115891 ,  5268.2746358 ,  7020.512591  , 12105.0932677 ,\n",
       "       10800.1808973 ,  1871.142114  ,  2022.0697375 ,  1710.743841  ,\n",
       "       19846.423959  ,  7357.035704  ,  7786.9414038 , 13752.2776799 ,\n",
       "       18267.963145  ,  6482.0502475 ,  6931.713307  ,  6212.53046102,\n",
       "       11586.398504  , 13182.4187057 ,  8590.3876979 , 35214.4122356 ,\n",
       "        5010.1835293 , 38102.0523726 , 21229.2304582 , 39008.556322  ,\n",
       "       14219.8797183 ,  1364.676427  ,  5100.007757  ,  3898.807888  ,\n",
       "        2425.3183684 ,  9039.9244005 ,  4138.3803995 , 26736.005492  ,\n",
       "        2150.3362785 ,  5388.2651973 , 14741.2958752 ,  6639.2920985 ,\n",
       "        7594.4073736 , 16086.1471202 ,  4647.4915519 , 23204.660497  ,\n",
       "       13815.5237609 ,  7086.8845544 ,  6039.9253608 ,  9661.5508552 ,\n",
       "        7503.9983246 , 16494.8293833 , 10398.3118193 , 16702.1343186 ,\n",
       "        5283.3556625 , 12424.379482  ,  7398.8378847 ,  7473.35853502,\n",
       "        6009.4827403 , 11743.8599831 ,  9120.4910837 ,  6322.6229214 ,\n",
       "       33525.3665064 , 12807.5976076 ,  4006.2306892 ,  9901.568988  ,\n",
       "        4692.3337895 ,  5310.2385966 , 16048.4950277 , 12314.7208672 ,\n",
       "        5396.6358862 ,  5053.8794255 ,  2150.3362785 , 11622.80557   ,\n",
       "        3565.3053037 ,  2418.23119875,  8302.7181548 ,  6852.0174705 ,\n",
       "       12329.8014843 ,  2011.3896355 ,  1962.2515905 , 47961.9338485 ,\n",
       "        9282.9016454 ,  8224.193899  ,  8853.2086956 ,  2635.907584  ,\n",
       "       12374.9183432 , 13806.4492675 ,  5824.478277  ,  3778.3807773 ,\n",
       "       38692.395671  ,  6795.3358888 , 35874.5261214 , 53586.4440529 ,\n",
       "       39627.9178664 , 13267.032447  ,  6516.8279348 , 14279.2840101 ,\n",
       "       12906.3736692 ,  9895.464339  ,  5107.556565  , 13080.6271581 ,\n",
       "        3582.0859005 , 16868.5753523 , 20591.8907578 ,  5357.3886236 ,\n",
       "       12320.2787395 , 22682.1835697 , 11484.5712217 , 12089.37312   ,\n",
       "       29356.6922266 , 48113.9610633 , 19925.4450738 ,  6789.154091  ,\n",
       "        7644.2996545 ,  1449.7918695 , 10718.4547794 , 40242.5888196 ,\n",
       "       39558.9548215 ,  4339.5032899 ,  9894.5870361 ,  9033.200027  ,\n",
       "       41245.0384067 ,  7156.2780604 , 16782.3933401 ,  6664.8137845 ,\n",
       "        7910.9389279 ,  2839.0649532 ,  9370.8670674 ,  9702.1916255 ,\n",
       "        6516.0744275 , 12305.641761  , 48491.987507  , 13850.1541403 ,\n",
       "       39420.1975225 ,  1790.6370114 , 41477.619084  ,  6707.9802471 ,\n",
       "       10544.1718955 , 18527.5042307 ,  5234.98349   , 13318.789739  ,\n",
       "       17330.3714924 ,  9074.7103724 ,  4124.0271204 ,  5403.2655502 ,\n",
       "       14826.3457831 ,  6637.621689  ,  1420.213034  , 39223.2919392 ,\n",
       "        3893.4376043 , 37459.3734599 ,  6924.314252  ,  9690.5194269 ,\n",
       "       13303.7490936 , 13923.1916124 , 15093.5102995 ,  6144.9341027 ,\n",
       "       10431.6302359 ,  6471.7197321 , 13335.998246  , 19315.6864106 ,\n",
       "       18781.810403  ,  7182.8802324 , 20825.5705135 , 39767.069289  ,\n",
       "       10579.273592  ,  2288.6375905 , 12401.772228  ,  8491.1068381 ,\n",
       "        3230.1662207 ,  3778.7251348 ,  3482.6465312 , 14856.5759796 ,\n",
       "       11942.3214965 ,  4382.9721089 ,  5090.220938  , 11131.9973464 ,\n",
       "       11843.2951548 , 10575.542897  ,  5302.5182409 ,  5320.1240188 ,\n",
       "        6189.2583508 , 45968.5926375 ,  7310.4297555 ,  3075.6676443 ,\n",
       "        5113.153183  , 28868.1672327 ,  2231.799184  , 12763.3433597 ,\n",
       "        4539.6318964 , 28573.908956  , 12274.6645215 ,  6429.0617355 ,\n",
       "       19371.6629084 ,  6917.0540255 ,  7822.5570723 ,  6922.7247767 ,\n",
       "       16298.5127033 ,  1280.218651  , 13487.7015944 ,  5390.330865  ,\n",
       "        8997.5771486 , 18100.79652   ,  5910.761379  ,  7493.6664315 ,\n",
       "        9744.6109096 ,  6768.9249168 ,  4339.043722  ,  8764.6395625 ,\n",
       "       20292.5162245 ,  8386.4965155 ,  2146.9038433 , 28677.111174  ,\n",
       "       44740.164591  ,  9318.7801187 , 14500.4649699 , 24732.416121  ,\n",
       "       10353.7440178 ,  8114.4681895 , 14054.8513428 , 47772.5383218 ,\n",
       "        8060.2066206 , 16115.9994473 , 12173.8360654 , 10184.1571654 ,\n",
       "        7174.5362715 , 12318.8696206 ,  2529.306892  , 10285.7547105 ,\n",
       "        8034.5946163 , 39751.0396685 , 21268.0621985 ,  1859.761813  ,\n",
       "       43352.453751  ,  4916.8655187 ,  8491.1127615 , 14201.6430185 ])"
      ]
     },
     "execution_count": 8,
     "metadata": {},
     "output_type": "execute_result"
    }
   ],
   "source": [
    "drop_col = ['ID']\n",
    "\n",
    "x_train_drop = x_train.drop(columns = drop_col)\n",
    "x_test_drop = x_test.drop(columns = drop_col)\n",
    "\n",
    "y = y_train['charges']\n",
    "\n",
    "x_train_dummies = pd.get_dummies(x_train_drop)\n",
    "x_test_dummies = pd.get_dummies(x_test_drop)\n",
    "x_test_dummies = x_test_dummies[x_train_dummies.columns]\n",
    "\n",
    "from sklearn.model_selection import train_test_split\n",
    "from sklearn.ensemble import RandomForestRegressor\n",
    "\n",
    "xtr, xt, ytr, yt = train_test_split(x_train_dummies, y)\n",
    "\n",
    "rf = RandomForestRegressor(random_state=42)\n",
    "rf.fit(xtr, ytr)\n",
    "\n",
    "y_validation_pred = rf.predict(xt)\n",
    "y_validation_pred"
   ]
  },
  {
   "cell_type": "code",
   "execution_count": null,
   "metadata": {},
   "outputs": [],
   "source": [
    "# mse\n",
    "\n",
    "# mae\n",
    "\n",
    "# mpae\n"
   ]
  }
 ],
 "metadata": {
  "kernelspec": {
   "display_name": ".venv",
   "language": "python",
   "name": "python3"
  },
  "language_info": {
   "codemirror_mode": {
    "name": "ipython",
    "version": 3
   },
   "file_extension": ".py",
   "mimetype": "text/x-python",
   "name": "python",
   "nbconvert_exporter": "python",
   "pygments_lexer": "ipython3",
   "version": "3.10.12"
  }
 },
 "nbformat": 4,
 "nbformat_minor": 2
}
