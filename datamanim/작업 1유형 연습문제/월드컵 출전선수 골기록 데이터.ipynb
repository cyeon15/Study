{
 "cells": [
  {
   "cell_type": "markdown",
   "metadata": {},
   "source": [
    "Attention\n",
    "===\n",
    "\n",
    "데이터 출처 :https://www.kaggle.com/darinhawley/fifa-world-cup-goalscorers-19302018(참고, 데이터 수정)   \n",
    "데이터 설명 : 1930 ~2018년도 월드컵 출전선수 골기록   \n",
    "data url = https://raw.githubusercontent.com/Datamanim/datarepo/main/worldcup/worldcupgoals.csv"
   ]
  },
  {
   "cell_type": "code",
   "execution_count": 36,
   "metadata": {},
   "outputs": [
    {
     "data": {
      "text/html": [
       "<div>\n",
       "<style scoped>\n",
       "    .dataframe tbody tr th:only-of-type {\n",
       "        vertical-align: middle;\n",
       "    }\n",
       "\n",
       "    .dataframe tbody tr th {\n",
       "        vertical-align: top;\n",
       "    }\n",
       "\n",
       "    .dataframe thead th {\n",
       "        text-align: right;\n",
       "    }\n",
       "</style>\n",
       "<table border=\"1\" class=\"dataframe\">\n",
       "  <thead>\n",
       "    <tr style=\"text-align: right;\">\n",
       "      <th></th>\n",
       "      <th>Player</th>\n",
       "      <th>Goals</th>\n",
       "      <th>Years</th>\n",
       "      <th>Country</th>\n",
       "    </tr>\n",
       "  </thead>\n",
       "  <tbody>\n",
       "    <tr>\n",
       "      <th>0</th>\n",
       "      <td>Miroslav Klose</td>\n",
       "      <td>16</td>\n",
       "      <td>2002-2006-2010-2014</td>\n",
       "      <td>Germany</td>\n",
       "    </tr>\n",
       "    <tr>\n",
       "      <th>1</th>\n",
       "      <td>Ronaldo</td>\n",
       "      <td>15</td>\n",
       "      <td>1998-2002-2006</td>\n",
       "      <td>Brazil</td>\n",
       "    </tr>\n",
       "    <tr>\n",
       "      <th>2</th>\n",
       "      <td>Gerd Muller</td>\n",
       "      <td>14</td>\n",
       "      <td>1970-1974</td>\n",
       "      <td>Germany</td>\n",
       "    </tr>\n",
       "    <tr>\n",
       "      <th>3</th>\n",
       "      <td>Just Fontaine</td>\n",
       "      <td>13</td>\n",
       "      <td>1958</td>\n",
       "      <td>France</td>\n",
       "    </tr>\n",
       "    <tr>\n",
       "      <th>4</th>\n",
       "      <td>Pele</td>\n",
       "      <td>12</td>\n",
       "      <td>1958-1962-1966-1970</td>\n",
       "      <td>Brazil</td>\n",
       "    </tr>\n",
       "  </tbody>\n",
       "</table>\n",
       "</div>"
      ],
      "text/plain": [
       "           Player  Goals                Years  Country\n",
       "0  Miroslav Klose     16  2002-2006-2010-2014  Germany\n",
       "1         Ronaldo     15       1998-2002-2006   Brazil\n",
       "2     Gerd Muller     14            1970-1974  Germany\n",
       "3   Just Fontaine     13                 1958   France\n",
       "4            Pele     12  1958-1962-1966-1970   Brazil"
      ]
     },
     "execution_count": 36,
     "metadata": {},
     "output_type": "execute_result"
    }
   ],
   "source": [
    "import pandas as pd\n",
    "\n",
    "dataurl = 'https://raw.githubusercontent.com/Datamanim/datarepo/main/worldcup/worldcupgoals.csv'\n",
    "df = pd.read_csv(dataurl)\n",
    "df.head()"
   ]
  },
  {
   "cell_type": "markdown",
   "metadata": {},
   "source": [
    "**Question 21**\n",
    "\n",
    "주어진 전체 기간의 각 나라별 골득점수 상위 5개 국가와 그 득점수를 데이터프레임형태로 출력하라."
   ]
  },
  {
   "cell_type": "code",
   "execution_count": 26,
   "metadata": {},
   "outputs": [
    {
     "data": {
      "text/html": [
       "<div>\n",
       "<style scoped>\n",
       "    .dataframe tbody tr th:only-of-type {\n",
       "        vertical-align: middle;\n",
       "    }\n",
       "\n",
       "    .dataframe tbody tr th {\n",
       "        vertical-align: top;\n",
       "    }\n",
       "\n",
       "    .dataframe thead th {\n",
       "        text-align: right;\n",
       "    }\n",
       "</style>\n",
       "<table border=\"1\" class=\"dataframe\">\n",
       "  <thead>\n",
       "    <tr style=\"text-align: right;\">\n",
       "      <th></th>\n",
       "      <th>Goals</th>\n",
       "    </tr>\n",
       "    <tr>\n",
       "      <th>Country</th>\n",
       "      <th></th>\n",
       "    </tr>\n",
       "  </thead>\n",
       "  <tbody>\n",
       "    <tr>\n",
       "      <th>Brazil</th>\n",
       "      <td>228</td>\n",
       "    </tr>\n",
       "    <tr>\n",
       "      <th>Germany</th>\n",
       "      <td>226</td>\n",
       "    </tr>\n",
       "    <tr>\n",
       "      <th>Argentina</th>\n",
       "      <td>135</td>\n",
       "    </tr>\n",
       "    <tr>\n",
       "      <th>Italy</th>\n",
       "      <td>123</td>\n",
       "    </tr>\n",
       "    <tr>\n",
       "      <th>France</th>\n",
       "      <td>115</td>\n",
       "    </tr>\n",
       "  </tbody>\n",
       "</table>\n",
       "</div>"
      ],
      "text/plain": [
       "           Goals\n",
       "Country         \n",
       "Brazil       228\n",
       "Germany      226\n",
       "Argentina    135\n",
       "Italy        123\n",
       "France       115"
      ]
     },
     "execution_count": 26,
     "metadata": {},
     "output_type": "execute_result"
    }
   ],
   "source": [
    "Ans = df[['Country', 'Goals']].groupby('Country').sum().sort_values('Goals', ascending=False).head(5)\n",
    "Ans"
   ]
  },
  {
   "cell_type": "markdown",
   "metadata": {},
   "source": [
    "**Question 22**\n",
    "\n",
    "주어진 전체 기간 동안 골득점을 한 선수가 가장 많은 나라 상위 5개 국가와 그 선수 숫자를 데이터 프레임 형식으로 출력하라."
   ]
  },
  {
   "cell_type": "code",
   "execution_count": 33,
   "metadata": {},
   "outputs": [
    {
     "data": {
      "text/plain": [
       "Country\n",
       "Brazil       81\n",
       "Germany      78\n",
       "Italy        60\n",
       "Argentina    59\n",
       "France       58\n",
       "dtype: int64"
      ]
     },
     "execution_count": 33,
     "metadata": {},
     "output_type": "execute_result"
    }
   ],
   "source": [
    "Ans = df.groupby('Country').size().sort_values(ascending=False).head(5)\n",
    "Ans"
   ]
  },
  {
   "cell_type": "code",
   "execution_count": 32,
   "metadata": {},
   "outputs": [
    {
     "data": {
      "text/plain": [
       "Country\n",
       "Brazil       81\n",
       "Germany      78\n",
       "Italy        60\n",
       "Argentina    59\n",
       "France       58\n",
       "Name: Player, dtype: int64"
      ]
     },
     "execution_count": 32,
     "metadata": {},
     "output_type": "execute_result"
    }
   ],
   "source": [
    "# My Answer\n",
    "Ans = df.groupby('Country').agg('count').sort_values('Goals', ascending=False)['Player']\n",
    "Ans.head(5)"
   ]
  },
  {
   "cell_type": "markdown",
   "metadata": {},
   "source": [
    "**Question 23**\n",
    "\n",
    "Years 컬럼은 년도-년도 형식으로 구성되어있고, 각 년도는 4자리 숫자이다. 년도 표기가 4자리 숫자로 안된 케이스가 존재한다. 해당 건은 몇건인지 출력하라."
   ]
  },
  {
   "cell_type": "code",
   "execution_count": 49,
   "metadata": {},
   "outputs": [
    {
     "data": {
      "text/plain": [
       "45"
      ]
     },
     "execution_count": 49,
     "metadata": {},
     "output_type": "execute_result"
    }
   ],
   "source": [
    "df['yearLst'] = df.Years.str.split('-')\n",
    "\n",
    "def checkFour(x):\n",
    "    for value in x:\n",
    "        ## 타입 형변환 필수\n",
    "        if len(str(value)) != 4:\n",
    "            return False\n",
    "        \n",
    "    return True\n",
    "    \n",
    "df['check'] = df['yearLst'].apply(checkFour)\n",
    "\n",
    "Ans = len(df[df.check==False])\n",
    "Ans"
   ]
  },
  {
   "cell_type": "code",
   "execution_count": 48,
   "metadata": {},
   "outputs": [
    {
     "data": {
      "text/plain": [
       "45"
      ]
     },
     "execution_count": 48,
     "metadata": {},
     "output_type": "execute_result"
    }
   ],
   "source": [
    "# My Answer\n",
    "def check_year(x):\n",
    "    for year in x.split('-'):\n",
    "        if len(year) != 4:\n",
    "            return True\n",
    "        else:\n",
    "            return False\n",
    "\n",
    "df['checkYear'] = df['Years'].apply(check_year)\n",
    "len(df[df['checkYear']])"
   ]
  },
  {
   "cell_type": "code",
   "execution_count": 52,
   "metadata": {},
   "outputs": [
    {
     "data": {
      "text/plain": [
       "1250"
      ]
     },
     "execution_count": 52,
     "metadata": {},
     "output_type": "execute_result"
    }
   ],
   "source": [
    "df2 = df[df.check==True]\n",
    "Ans = len(df2)\n",
    "Ans"
   ]
  },
  {
   "cell_type": "markdown",
   "metadata": {},
   "source": [
    "**Question 25**\n",
    "\n",
    "월드컵 출전횟수를 나타내는 ‘LenCup’ 컬럼을 추가하고 4회 출전한 선수의 숫자를 구하여라."
   ]
  },
  {
   "cell_type": "code",
   "execution_count": 53,
   "metadata": {},
   "outputs": [
    {
     "data": {
      "text/html": [
       "<div>\n",
       "<style scoped>\n",
       "    .dataframe tbody tr th:only-of-type {\n",
       "        vertical-align: middle;\n",
       "    }\n",
       "\n",
       "    .dataframe tbody tr th {\n",
       "        vertical-align: top;\n",
       "    }\n",
       "\n",
       "    .dataframe thead th {\n",
       "        text-align: right;\n",
       "    }\n",
       "</style>\n",
       "<table border=\"1\" class=\"dataframe\">\n",
       "  <thead>\n",
       "    <tr style=\"text-align: right;\">\n",
       "      <th></th>\n",
       "      <th>Player</th>\n",
       "      <th>Goals</th>\n",
       "      <th>Years</th>\n",
       "      <th>Country</th>\n",
       "      <th>checkYear</th>\n",
       "      <th>yearLst</th>\n",
       "      <th>check</th>\n",
       "    </tr>\n",
       "  </thead>\n",
       "  <tbody>\n",
       "    <tr>\n",
       "      <th>0</th>\n",
       "      <td>Miroslav Klose</td>\n",
       "      <td>16</td>\n",
       "      <td>2002-2006-2010-2014</td>\n",
       "      <td>Germany</td>\n",
       "      <td>False</td>\n",
       "      <td>[2002, 2006, 2010, 2014]</td>\n",
       "      <td>True</td>\n",
       "    </tr>\n",
       "    <tr>\n",
       "      <th>1</th>\n",
       "      <td>Ronaldo</td>\n",
       "      <td>15</td>\n",
       "      <td>1998-2002-2006</td>\n",
       "      <td>Brazil</td>\n",
       "      <td>False</td>\n",
       "      <td>[1998, 2002, 2006]</td>\n",
       "      <td>True</td>\n",
       "    </tr>\n",
       "    <tr>\n",
       "      <th>2</th>\n",
       "      <td>Gerd Muller</td>\n",
       "      <td>14</td>\n",
       "      <td>1970-1974</td>\n",
       "      <td>Germany</td>\n",
       "      <td>False</td>\n",
       "      <td>[1970, 1974]</td>\n",
       "      <td>True</td>\n",
       "    </tr>\n",
       "    <tr>\n",
       "      <th>3</th>\n",
       "      <td>Just Fontaine</td>\n",
       "      <td>13</td>\n",
       "      <td>1958</td>\n",
       "      <td>France</td>\n",
       "      <td>False</td>\n",
       "      <td>[1958]</td>\n",
       "      <td>True</td>\n",
       "    </tr>\n",
       "    <tr>\n",
       "      <th>4</th>\n",
       "      <td>Pele</td>\n",
       "      <td>12</td>\n",
       "      <td>1958-1962-1966-1970</td>\n",
       "      <td>Brazil</td>\n",
       "      <td>False</td>\n",
       "      <td>[1958, 1962, 1966, 1970]</td>\n",
       "      <td>True</td>\n",
       "    </tr>\n",
       "    <tr>\n",
       "      <th>...</th>\n",
       "      <td>...</td>\n",
       "      <td>...</td>\n",
       "      <td>...</td>\n",
       "      <td>...</td>\n",
       "      <td>...</td>\n",
       "      <td>...</td>\n",
       "      <td>...</td>\n",
       "    </tr>\n",
       "    <tr>\n",
       "      <th>1290</th>\n",
       "      <td>Josip Skoblar</td>\n",
       "      <td>1</td>\n",
       "      <td>1962</td>\n",
       "      <td>Yugoslavia</td>\n",
       "      <td>False</td>\n",
       "      <td>[1962]</td>\n",
       "      <td>True</td>\n",
       "    </tr>\n",
       "    <tr>\n",
       "      <th>1291</th>\n",
       "      <td>Safet Susic</td>\n",
       "      <td>1</td>\n",
       "      <td>1982-1990</td>\n",
       "      <td>Yugoslavia</td>\n",
       "      <td>False</td>\n",
       "      <td>[1982, 1990]</td>\n",
       "      <td>True</td>\n",
       "    </tr>\n",
       "    <tr>\n",
       "      <th>1292</th>\n",
       "      <td>Aleksandar Tirnanic</td>\n",
       "      <td>1</td>\n",
       "      <td>1930</td>\n",
       "      <td>Yugoslavia</td>\n",
       "      <td>False</td>\n",
       "      <td>[1930]</td>\n",
       "      <td>True</td>\n",
       "    </tr>\n",
       "    <tr>\n",
       "      <th>1293</th>\n",
       "      <td>Djordje Vujadinovic</td>\n",
       "      <td>1</td>\n",
       "      <td>1930</td>\n",
       "      <td>Yugoslavia</td>\n",
       "      <td>False</td>\n",
       "      <td>[1930]</td>\n",
       "      <td>True</td>\n",
       "    </tr>\n",
       "    <tr>\n",
       "      <th>1294</th>\n",
       "      <td>Branko Zebec</td>\n",
       "      <td>1</td>\n",
       "      <td>1954-1958</td>\n",
       "      <td>Yugoslavia</td>\n",
       "      <td>False</td>\n",
       "      <td>[1954, 1958]</td>\n",
       "      <td>True</td>\n",
       "    </tr>\n",
       "  </tbody>\n",
       "</table>\n",
       "<p>1250 rows × 7 columns</p>\n",
       "</div>"
      ],
      "text/plain": [
       "                   Player  Goals                Years     Country  checkYear   \n",
       "0          Miroslav Klose     16  2002-2006-2010-2014     Germany      False  \\\n",
       "1                 Ronaldo     15       1998-2002-2006      Brazil      False   \n",
       "2             Gerd Muller     14            1970-1974     Germany      False   \n",
       "3           Just Fontaine     13                 1958      France      False   \n",
       "4                    Pele     12  1958-1962-1966-1970      Brazil      False   \n",
       "...                   ...    ...                  ...         ...        ...   \n",
       "1290        Josip Skoblar      1                 1962  Yugoslavia      False   \n",
       "1291          Safet Susic      1            1982-1990  Yugoslavia      False   \n",
       "1292  Aleksandar Tirnanic      1                 1930  Yugoslavia      False   \n",
       "1293  Djordje Vujadinovic      1                 1930  Yugoslavia      False   \n",
       "1294         Branko Zebec      1            1954-1958  Yugoslavia      False   \n",
       "\n",
       "                       yearLst  check  \n",
       "0     [2002, 2006, 2010, 2014]   True  \n",
       "1           [1998, 2002, 2006]   True  \n",
       "2                 [1970, 1974]   True  \n",
       "3                       [1958]   True  \n",
       "4     [1958, 1962, 1966, 1970]   True  \n",
       "...                        ...    ...  \n",
       "1290                    [1962]   True  \n",
       "1291              [1982, 1990]   True  \n",
       "1292                    [1930]   True  \n",
       "1293                    [1930]   True  \n",
       "1294              [1954, 1958]   True  \n",
       "\n",
       "[1250 rows x 7 columns]"
      ]
     },
     "execution_count": 53,
     "metadata": {},
     "output_type": "execute_result"
    }
   ],
   "source": [
    "df2"
   ]
  },
  {
   "cell_type": "code",
   "execution_count": 57,
   "metadata": {},
   "outputs": [
    {
     "name": "stderr",
     "output_type": "stream",
     "text": [
      "/tmp/ipykernel_4005/2660399785.py:1: SettingWithCopyWarning: \n",
      "A value is trying to be set on a copy of a slice from a DataFrame.\n",
      "Try using .loc[row_indexer,col_indexer] = value instead\n",
      "\n",
      "See the caveats in the documentation: https://pandas.pydata.org/pandas-docs/stable/user_guide/indexing.html#returning-a-view-versus-a-copy\n",
      "  df2['LenCup'] = df2['yearLst'].str.len()\n"
     ]
    },
    {
     "data": {
      "text/plain": [
       "16"
      ]
     },
     "execution_count": 57,
     "metadata": {},
     "output_type": "execute_result"
    }
   ],
   "source": [
    "df2['LenCup'] = df2['yearLst'].str.len()\n",
    "Ans = df2['LenCup'].value_counts()[4]\n",
    "Ans"
   ]
  },
  {
   "cell_type": "code",
   "execution_count": 55,
   "metadata": {},
   "outputs": [
    {
     "name": "stderr",
     "output_type": "stream",
     "text": [
      "/tmp/ipykernel_4005/4207212156.py:1: SettingWithCopyWarning: \n",
      "A value is trying to be set on a copy of a slice from a DataFrame.\n",
      "Try using .loc[row_indexer,col_indexer] = value instead\n",
      "\n",
      "See the caveats in the documentation: https://pandas.pydata.org/pandas-docs/stable/user_guide/indexing.html#returning-a-view-versus-a-copy\n",
      "  df2['LenCup'] = df['yearLst'].apply(lambda x: len(x))\n"
     ]
    },
    {
     "data": {
      "text/plain": [
       "16"
      ]
     },
     "execution_count": 55,
     "metadata": {},
     "output_type": "execute_result"
    }
   ],
   "source": [
    "df2['LenCup'] = df['yearLst'].apply(lambda x: len(x))\n",
    "Ans = len(df2[df2['LenCup'] == 4])\n",
    "Ans"
   ]
  },
  {
   "cell_type": "markdown",
   "metadata": {},
   "source": [
    "**Question 26**\n",
    "\n",
    "Yugoslavia 국가의 월드컵 출전횟수가 2회인 선수들의 숫자를 구하여라."
   ]
  },
  {
   "cell_type": "code",
   "execution_count": 59,
   "metadata": {},
   "outputs": [
    {
     "data": {
      "text/plain": [
       "7"
      ]
     },
     "execution_count": 59,
     "metadata": {},
     "output_type": "execute_result"
    }
   ],
   "source": [
    "Ans = len(df2[(df2['Country'] == 'Yugoslavia') & (df2['LenCup'] == 2)])\n",
    "Ans"
   ]
  },
  {
   "cell_type": "markdown",
   "metadata": {},
   "source": [
    "**Question 27**\n",
    "\n",
    "2002년도에 출전한 전체 선수는 몇명인가?"
   ]
  },
  {
   "cell_type": "code",
   "execution_count": 70,
   "metadata": {},
   "outputs": [
    {
     "data": {
      "text/plain": [
       "156"
      ]
     },
     "execution_count": 70,
     "metadata": {},
     "output_type": "execute_result"
    }
   ],
   "source": [
    "Ans = len(df2[df2.Years.str.contains('2002')])\n",
    "Ans"
   ]
  },
  {
   "cell_type": "code",
   "execution_count": 69,
   "metadata": {},
   "outputs": [
    {
     "data": {
      "text/plain": [
       "156"
      ]
     },
     "execution_count": 69,
     "metadata": {},
     "output_type": "execute_result"
    }
   ],
   "source": [
    "# My Answer\n",
    "Ans = len(df2[df2['yearLst'].apply(lambda x: '2002' in x)])\n",
    "Ans"
   ]
  },
  {
   "cell_type": "markdown",
   "metadata": {},
   "source": [
    "**Question 28**\n",
    "\n",
    "이름에 ‘carlos’ 단어가 들어가는 선수의 숫자는 몇 명인가? (대, 소문자 구분 x)"
   ]
  },
  {
   "cell_type": "code",
   "execution_count": 96,
   "metadata": {},
   "outputs": [
    {
     "data": {
      "text/plain": [
       "13"
      ]
     },
     "execution_count": 96,
     "metadata": {},
     "output_type": "execute_result"
    }
   ],
   "source": [
    "# ✅ .lower() / .upper() / casefold()\n",
    "Ans = len(df2[df2.Player.str.lower().str.contains('carlos')])\n",
    "Ans"
   ]
  },
  {
   "cell_type": "code",
   "execution_count": 76,
   "metadata": {},
   "outputs": [
    {
     "data": {
      "text/plain": [
       "13"
      ]
     },
     "execution_count": 76,
     "metadata": {},
     "output_type": "execute_result"
    }
   ],
   "source": [
    "# My Answer\n",
    "Ans = len(df2[df2['Player'].apply(lambda x: 'carlos' in x.casefold())])"
   ]
  },
  {
   "cell_type": "markdown",
   "metadata": {},
   "source": [
    "**Question 29**\n",
    "\n",
    "월드컵 출전 횟수가 1회 뿐인 선수들 중에서 가장 많은 득점을 올렸던 선수는 누구인가?"
   ]
  },
  {
   "cell_type": "code",
   "execution_count": 87,
   "metadata": {},
   "outputs": [
    {
     "data": {
      "text/plain": [
       "'Just Fontaine'"
      ]
     },
     "execution_count": 87,
     "metadata": {},
     "output_type": "execute_result"
    }
   ],
   "source": [
    "Ans = df2[df2.LenCup==1].sort_values('Goals', ascending=False).Player.values[0]\n",
    "Ans"
   ]
  },
  {
   "cell_type": "code",
   "execution_count": 86,
   "metadata": {},
   "outputs": [
    {
     "data": {
      "text/plain": [
       "'Just Fontaine'"
      ]
     },
     "execution_count": 86,
     "metadata": {},
     "output_type": "execute_result"
    }
   ],
   "source": [
    "Ans = df2[df2['LenCup']==1].sort_values('Goals', ascending=False).reset_index(drop=True)['Player'][0]\n",
    "Ans"
   ]
  },
  {
   "cell_type": "markdown",
   "metadata": {},
   "source": [
    "**Question 30**\n",
    "\n",
    "월드컵 출전횟수가 1회 뿐인 선수들이 가장 많은 국가는 어디인가?"
   ]
  },
  {
   "cell_type": "code",
   "execution_count": 95,
   "metadata": {},
   "outputs": [
    {
     "data": {
      "text/plain": [
       "'Brazil'"
      ]
     },
     "execution_count": 95,
     "metadata": {},
     "output_type": "execute_result"
    }
   ],
   "source": [
    "Ans = df2[df2['LenCup']==1]['Country'].value_counts().index[0]\n",
    "Ans"
   ]
  }
 ],
 "metadata": {
  "kernelspec": {
   "display_name": ".venv",
   "language": "python",
   "name": "python3"
  },
  "language_info": {
   "codemirror_mode": {
    "name": "ipython",
    "version": 3
   },
   "file_extension": ".py",
   "mimetype": "text/x-python",
   "name": "python",
   "nbconvert_exporter": "python",
   "pygments_lexer": "ipython3",
   "version": "3.10.12"
  }
 },
 "nbformat": 4,
 "nbformat_minor": 2
}
