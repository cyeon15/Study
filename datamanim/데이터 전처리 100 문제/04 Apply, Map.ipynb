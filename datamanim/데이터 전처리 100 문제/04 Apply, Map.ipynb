{
 "cells": [
  {
   "cell_type": "code",
   "execution_count": 1,
   "metadata": {},
   "outputs": [],
   "source": [
    "import pandas as pd"
   ]
  },
  {
   "cell_type": "markdown",
   "metadata": {},
   "source": [
    "- apply() : 데이터프레임(DataFrame)과 시리즈(Series)에 모두 적용 가능   \n",
    "- map() : 시리즈(Series)에만 적용 가능   \n",
    "- applymap() : 데이터프레임(DataFrame)에만 적용 가능"
   ]
  },
  {
   "cell_type": "markdown",
   "metadata": {},
   "source": [
    "Attention\n",
    "===\n",
    "\n",
    "카드이용데이터 : https://www.kaggle.com/sakshigoyal7/credit-card-customers    \n",
    "DataUrl = ‘https://raw.githubusercontent.com/Datamanim/pandas/main/BankChurnersUp.csv’"
   ]
  },
  {
   "cell_type": "markdown",
   "metadata": {},
   "source": [
    "**Question 56**\n",
    "\n",
    "데이터를 로드하고 데이터 행과 열의 갯수를 출력하라."
   ]
  },
  {
   "cell_type": "code",
   "execution_count": 21,
   "metadata": {},
   "outputs": [
    {
     "data": {
      "text/plain": [
       "(10127, 18)"
      ]
     },
     "execution_count": 21,
     "metadata": {},
     "output_type": "execute_result"
    }
   ],
   "source": [
    "DataUrl = 'https://raw.githubusercontent.com/Datamanim/pandas/main/BankChurnersUp.csv'\n",
    "df = pd.read_csv(DataUrl, index_col=0)\n",
    "\n",
    "# ✅ .shape\n",
    "Ans = df.shape\n",
    "Ans"
   ]
  },
  {
   "cell_type": "markdown",
   "metadata": {},
   "source": [
    "**Question 57**\n",
    "\n",
    "Income_Category의 카테고리를 map 함수를 이용하여 다음과 같이 변경하여 newIncome 컬럼에 매핑하라.   \n",
    "   \n",
    "Unknown : N   \n",
    "Less than $40K : a   \n",
    "$40K - $60K : b   \n",
    "$60K - $80K : c   \n",
    "$80K - $120K : d   \n",
    "$120K +’ : e"
   ]
  },
  {
   "cell_type": "code",
   "execution_count": 22,
   "metadata": {},
   "outputs": [
    {
     "data": {
      "text/plain": [
       "0    c\n",
       "1    a\n",
       "2    d\n",
       "3    a\n",
       "Name: newIncome, dtype: object"
      ]
     },
     "execution_count": 22,
     "metadata": {},
     "output_type": "execute_result"
    }
   ],
   "source": [
    "dic = {\n",
    "    'Unknown': 'N'\n",
    "    ,'Less than $40K' : 'a'\n",
    "    ,'$40K - $60K' : 'b'\n",
    "    ,'$60K - $80K' : 'c'\n",
    "    ,'$80K - $120K' : 'd'\n",
    "    ,'$120K +' : 'e'\n",
    "}\n",
    "\n",
    "df['newIncome'] = df.Income_Category.map(lambda x: dic[x])\n",
    "Ans = df['newIncome']\n",
    "Ans.head(4)"
   ]
  },
  {
   "cell_type": "code",
   "execution_count": 4,
   "metadata": {},
   "outputs": [],
   "source": [
    "# My Answer - ⚠️ ERROR\n",
    "# map() 이 아닌 apply() 적용 시 실행 가능.\n",
    "def mapping(df):\n",
    "    if df['Income_Category'] == 'Unknown':\n",
    "        return 'N'\n",
    "    elif df['Income_Category'] == 'Less than $40K':\n",
    "        return 'a'\n",
    "    elif df['Income_Category'] == '$40K - $60K':\n",
    "        return 'b'\n",
    "    elif df['Income_Category'] == '$60K - $80K':\n",
    "        return 'c'\n",
    "    elif df['Income_Category'] == '$80K - $120K':\n",
    "        return 'd'\n",
    "    elif df['Income_Category'] == '$120K +':\n",
    "        return 'e'\n",
    "    \n",
    "# Ans = df\n",
    "# Ans['newIncome'] = Ans['Income_Category'].map(mapping, Ans)\n",
    "# Ans.head(4)"
   ]
  },
  {
   "cell_type": "markdown",
   "metadata": {},
   "source": [
    "**Question 58**\n",
    "\n",
    "Income_Category의 카테고리를 apply 함수를 이용하여 다음과 같이 변경하여 newIncome 컬럼에 매핑하라.   \n",
    "   \n",
    "Unknown : N   \n",
    "Less than $40K : a   \n",
    "$40K - $60K : b   \n",
    "$60K - $80K : c   \n",
    "$80K - $120K : d   \n",
    "$120K +’ : e"
   ]
  },
  {
   "cell_type": "code",
   "execution_count": 23,
   "metadata": {},
   "outputs": [
    {
     "data": {
      "text/plain": [
       "0    c\n",
       "1    a\n",
       "2    d\n",
       "3    a\n",
       "Name: newIncome, dtype: object"
      ]
     },
     "execution_count": 23,
     "metadata": {},
     "output_type": "execute_result"
    }
   ],
   "source": [
    "def changeCategory(x):\n",
    "    if x == 'Unknown':\n",
    "        return 'N'\n",
    "    elif x == 'Less than $40K':\n",
    "        return 'a'\n",
    "    elif x == '$40K - $60K':\n",
    "        return 'b'\n",
    "    elif x == '$60K - $80K':\n",
    "        return 'c'\n",
    "    elif x == '$80K - $120K':\n",
    "        return 'd'\n",
    "    elif x == '$120K +':\n",
    "        return 'e'\n",
    "    \n",
    "df['newIncome'] = df['Income_Category'].apply(changeCategory)\n",
    "Ans = df['newIncome']\n",
    "Ans.head(4)"
   ]
  },
  {
   "cell_type": "markdown",
   "metadata": {},
   "source": [
    "**Question 59**\n",
    "\n",
    "Customer_Age의 값을 이용하여 나이 구간을 AgeState 컬럼으로 정의하라. (0~9 : 0 , 10~19 :10 , 20~29 :20 …)    \n",
    "각 구간의 빈도수를 출력하라."
   ]
  },
  {
   "cell_type": "code",
   "execution_count": 24,
   "metadata": {},
   "outputs": [
    {
     "data": {
      "text/plain": [
       "AgeState\n",
       "20     195\n",
       "30    1841\n",
       "40    4561\n",
       "50    2998\n",
       "60     530\n",
       "70       2\n",
       "Name: count, dtype: int64"
      ]
     },
     "execution_count": 24,
     "metadata": {},
     "output_type": "execute_result"
    }
   ],
   "source": [
    "df['AgeState'] = df.Customer_Age.map(lambda x: x//10 *10)\n",
    "Ans = df['AgeState'].value_counts().sort_index()\n",
    "Ans"
   ]
  },
  {
   "cell_type": "code",
   "execution_count": 19,
   "metadata": {},
   "outputs": [
    {
     "data": {
      "text/plain": [
       "AgeState\n",
       "20     195\n",
       "30    1841\n",
       "40    4561\n",
       "50    2998\n",
       "60     530\n",
       "70       2\n",
       "dtype: int64"
      ]
     },
     "execution_count": 19,
     "metadata": {},
     "output_type": "execute_result"
    }
   ],
   "source": [
    "# My Answer\n",
    "def changeCategory2(x):\n",
    "    if x >= 0 and x < 10:\n",
    "        return 0\n",
    "    elif x >= 10 and x < 20:\n",
    "        return 10\n",
    "    elif x >= 20 and x < 30:\n",
    "        return 20\n",
    "    elif x >= 30 and x < 40:\n",
    "        return 30\n",
    "    elif x >= 40 and x < 50:\n",
    "        return 40\n",
    "    elif x >= 50 and x < 60:\n",
    "        return 50\n",
    "    elif x >= 60 and x < 70:\n",
    "        return 60\n",
    "    elif x >= 70 and x < 80:\n",
    "        return 70\n",
    "    \n",
    "df['AgeState'] = df['Customer_Age'].apply(changeCategory2)\n",
    "Ans = df.groupby('AgeState').size()\n",
    "Ans"
   ]
  },
  {
   "cell_type": "markdown",
   "metadata": {},
   "source": [
    "**Question 60**\n",
    "\n",
    "Education_Level의 값중 Graduate단어가 포함되는 값은 1 그렇지 않은 경우에는 0으로 변경하여 newEduLevel 컬럼을 정의하고 빈도수를 출력하라."
   ]
  },
  {
   "cell_type": "code",
   "execution_count": 31,
   "metadata": {},
   "outputs": [
    {
     "data": {
      "text/plain": [
       "newEduLevel\n",
       "0    6483\n",
       "1    3644\n",
       "Name: count, dtype: int64"
      ]
     },
     "execution_count": 31,
     "metadata": {},
     "output_type": "execute_result"
    }
   ],
   "source": [
    "df['newEduLevel'] = df.Education_Level.map(lambda x: 1 if 'Graduate' in x else 0)\n",
    "Ans = df['newEduLevel'].value_counts()\n",
    "Ans"
   ]
  },
  {
   "cell_type": "code",
   "execution_count": 29,
   "metadata": {},
   "outputs": [
    {
     "data": {
      "text/plain": [
       "newEduLevel\n",
       "0    6483\n",
       "1    3644\n",
       "Name: count, dtype: int64"
      ]
     },
     "execution_count": 29,
     "metadata": {},
     "output_type": "execute_result"
    }
   ],
   "source": [
    "# My Answer\n",
    "df['newEduLevel'] = df['Education_Level'].apply(lambda x: '1' if 'Graduate' in x else '0')\n",
    "Ans = df['newEduLevel'].value_counts().sort_index()\n",
    "Ans"
   ]
  },
  {
   "cell_type": "markdown",
   "metadata": {},
   "source": [
    "**Question 61**\n",
    "\n",
    "Credit_Limit 컬럼값이 4500 이상인 경우 1 그외의 경우에는 모두 0으로 하는 newLimit 정의하라. newLimit 각 값들의 빈도수를 출력하라."
   ]
  },
  {
   "cell_type": "code",
   "execution_count": 32,
   "metadata": {},
   "outputs": [
    {
     "data": {
      "text/plain": [
       "newLimit\n",
       "1    5096\n",
       "0    5031\n",
       "Name: count, dtype: int64"
      ]
     },
     "execution_count": 32,
     "metadata": {},
     "output_type": "execute_result"
    }
   ],
   "source": [
    "df['newLimit'] = df.Credit_Limit.map(lambda x: 1 if x >= 4500 else 0)\n",
    "Ans = df['newLimit'].value_counts()\n",
    "Ans"
   ]
  },
  {
   "cell_type": "markdown",
   "metadata": {},
   "source": [
    "**Question 62**\n",
    "\n",
    "Marital_Status 컬럼값이 Married 이고 Card_Category 컬럼의 값이 Platinum인 경우 1 그외의 경우에는 모두 0으로 하는 newState컬럼을 정의하라. newState의 각 값들의 빈도수를 출력하라."
   ]
  },
  {
   "cell_type": "code",
   "execution_count": 52,
   "metadata": {},
   "outputs": [
    {
     "data": {
      "text/plain": [
       "newState\n",
       "0    10120\n",
       "1        7\n",
       "Name: count, dtype: int64"
      ]
     },
     "execution_count": 52,
     "metadata": {},
     "output_type": "execute_result"
    }
   ],
   "source": [
    "# ✅\n",
    "def check(x):\n",
    "    if x.Marital_Status == 'Married' and x.Card_Category == 'Platinum':\n",
    "        return 1\n",
    "    else:\n",
    "        return 0\n",
    "df['newState'] = df.apply(check, axis=1)\n",
    "Ans = df['newState'].value_counts()\n",
    "Ans"
   ]
  },
  {
   "cell_type": "code",
   "execution_count": null,
   "metadata": {},
   "outputs": [],
   "source": []
  },
  {
   "cell_type": "code",
   "execution_count": null,
   "metadata": {},
   "outputs": [],
   "source": []
  },
  {
   "cell_type": "code",
   "execution_count": null,
   "metadata": {},
   "outputs": [],
   "source": []
  }
 ],
 "metadata": {
  "kernelspec": {
   "display_name": ".venv",
   "language": "python",
   "name": "python3"
  },
  "language_info": {
   "codemirror_mode": {
    "name": "ipython",
    "version": 3
   },
   "file_extension": ".py",
   "mimetype": "text/x-python",
   "name": "python",
   "nbconvert_exporter": "python",
   "pygments_lexer": "ipython3",
   "version": "3.11.6"
  }
 },
 "nbformat": 4,
 "nbformat_minor": 2
}
