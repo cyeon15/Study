{
 "cells": [
  {
   "cell_type": "code",
   "execution_count": 1,
   "metadata": {},
   "outputs": [],
   "source": [
    "import pandas as pd"
   ]
  },
  {
   "cell_type": "markdown",
   "metadata": {},
   "source": [
    "Attention\n",
    "===\n",
    "\n",
    "카드이용데이터 : https://www.kaggle.com/sakshigoyal7/credit-card-customers    \n",
    "DataUrl = ‘https://raw.githubusercontent.com/Datamanim/pandas/main/BankChurnersUp.csv’"
   ]
  },
  {
   "cell_type": "markdown",
   "metadata": {},
   "source": [
    "**Question 56**\n",
    "\n",
    "데이터를 로드하고 데이터 행과 열의 갯수를 출력하라."
   ]
  },
  {
   "cell_type": "code",
   "execution_count": 14,
   "metadata": {},
   "outputs": [
    {
     "data": {
      "text/plain": [
       "(10127, 18)"
      ]
     },
     "execution_count": 14,
     "metadata": {},
     "output_type": "execute_result"
    }
   ],
   "source": [
    "DataUrl = 'https://raw.githubusercontent.com/Datamanim/pandas/main/BankChurnersUp.csv'\n",
    "df = pd.read_csv(DataUrl, index_col=0)\n",
    "\n",
    "# ✅ .shape\n",
    "Ans = df.shape\n",
    "Ans"
   ]
  },
  {
   "cell_type": "markdown",
   "metadata": {},
   "source": [
    "**Question 57**\n",
    "\n",
    "Income_Category의 카테고리를 map 함수를 이용하여 다음과 같이 변경하여 newIncome 컬럼에 매핑하라.   \n",
    "   \n",
    "Unknown : N   \n",
    "Less than $40K : a   \n",
    "$40K - $60K : b   \n",
    "$60K - $80K : c   \n",
    "$80K - $120K : d   \n",
    "$120K +’ : e"
   ]
  },
  {
   "cell_type": "code",
   "execution_count": 22,
   "metadata": {},
   "outputs": [
    {
     "data": {
      "text/plain": [
       "0    c\n",
       "1    a\n",
       "2    d\n",
       "3    a\n",
       "Name: newIncome, dtype: object"
      ]
     },
     "execution_count": 22,
     "metadata": {},
     "output_type": "execute_result"
    }
   ],
   "source": [
    "dic = {\n",
    "    'Unknown': 'N'\n",
    "    ,'Less than $40K' : 'a'\n",
    "    ,'$40K - $60K' : 'b'\n",
    "    ,'$60K - $80K' : 'c'\n",
    "    ,'$80K - $120K' : 'd'\n",
    "    ,'$120K +' : 'e'\n",
    "}\n",
    "\n",
    "df['newIncome'] = df.Income_Category.map(lambda x: dic[x])\n",
    "Ans = df['newIncome']\n",
    "Ans.head(4)"
   ]
  },
  {
   "cell_type": "code",
   "execution_count": 21,
   "metadata": {},
   "outputs": [],
   "source": [
    "# My Answer - ⚠️ ERROR\n",
    "def mapping(df):\n",
    "    if df['Income_Category'] == 'Unknown':\n",
    "        return 'N'\n",
    "    elif df['Income_Category'] == 'Less than $40K':\n",
    "        return 'a'\n",
    "    elif df['Income_Category'] == '$40K - $60K':\n",
    "        return 'b'\n",
    "    elif df['Income_Category'] == '$60K - $80K':\n",
    "        return 'c'\n",
    "    elif df['Income_Category'] == '$80K - $120K':\n",
    "        return 'd'\n",
    "    elif df['Income_Category'] == '$120K +':\n",
    "        return 'e'\n",
    "    \n",
    "# Ans = df\n",
    "# Ans['newIncome'] = Ans['Income_Category'].map(mapping, Ans)\n",
    "# Ans.head(4)"
   ]
  },
  {
   "cell_type": "code",
   "execution_count": null,
   "metadata": {},
   "outputs": [],
   "source": []
  },
  {
   "cell_type": "code",
   "execution_count": null,
   "metadata": {},
   "outputs": [],
   "source": []
  },
  {
   "cell_type": "code",
   "execution_count": null,
   "metadata": {},
   "outputs": [],
   "source": []
  },
  {
   "cell_type": "code",
   "execution_count": null,
   "metadata": {},
   "outputs": [],
   "source": []
  },
  {
   "cell_type": "code",
   "execution_count": null,
   "metadata": {},
   "outputs": [],
   "source": []
  },
  {
   "cell_type": "code",
   "execution_count": null,
   "metadata": {},
   "outputs": [],
   "source": []
  },
  {
   "cell_type": "code",
   "execution_count": null,
   "metadata": {},
   "outputs": [],
   "source": []
  }
 ],
 "metadata": {
  "kernelspec": {
   "display_name": ".venv",
   "language": "python",
   "name": "python3"
  },
  "language_info": {
   "codemirror_mode": {
    "name": "ipython",
    "version": 3
   },
   "file_extension": ".py",
   "mimetype": "text/x-python",
   "name": "python",
   "nbconvert_exporter": "python",
   "pygments_lexer": "ipython3",
   "version": "3.11.6"
  }
 },
 "nbformat": 4,
 "nbformat_minor": 2
}
