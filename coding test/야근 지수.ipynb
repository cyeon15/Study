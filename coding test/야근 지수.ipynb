{
 "cells": [
  {
   "cell_type": "markdown",
   "metadata": {},
   "source": [
    "문제 설명\n",
    "===\n",
    "\n",
    "회사원 Demi는 가끔은 야근을 하는데요, 야근을 하면 야근 피로도가 쌓입니다.    \n",
    "야근 피로도는 야근을 시작한 시점에서 남은 일의 작업량을 제곱하여 더한 값입니다.    \n",
    "Demi는 N시간 동안 야근 피로도를 최소화하도록 일할 겁니다.   \n",
    "Demi가 1시간 동안 작업량 1만큼을 처리할 수 있다고 할 때, 퇴근까지 남은 N 시간과 각 일에 대한 작업량 works에 대해 야근 피로도를 최소화한 값을 리턴하는 함수 solution을 완성해주세요."
   ]
  },
  {
   "cell_type": "markdown",
   "metadata": {},
   "source": [
    "제한 사항\n",
    "===\n",
    "\n",
    "works는 길이 1 이상, 20,000 이하인 배열입니다.   \n",
    "works의 원소는 50000 이하인 자연수입니다.   \n",
    "n은 1,000,000 이하인 자연수입니다.   "
   ]
  },
  {
   "cell_type": "code",
   "execution_count": null,
   "metadata": {},
   "outputs": [],
   "source": []
  },
  {
   "cell_type": "markdown",
   "metadata": {},
   "source": [
    "**My Answer. 1**\n",
    "===\n",
    "   \n",
    "정확성 테스트 통과, 효율성 테스트 실패"
   ]
  },
  {
   "cell_type": "code",
   "execution_count": 8,
   "metadata": {},
   "outputs": [],
   "source": [
    "# ✅ while\n",
    "# ✅ list 요소 값 변경\n",
    "# ✅ index 로 list 값 찾기\n",
    "## list[values]\n",
    "# ✅ 제곱 연산\n",
    "## x 의 y 승 = x**y\n",
    "\n",
    "def solution(n, works):\n",
    "    answer = 0\n",
    "    # n 이 works 의 각 요소를 더한 값보다 클 때 바로 return \n",
    "    if n > sum(works):\n",
    "        return answer\n",
    "    \n",
    "    while n > 0:\n",
    "        max_works = max(works)\n",
    "        works[works.index(max_works)] = max_works - 1\n",
    "    \n",
    "        n = n-1\n",
    "\n",
    "    answer = sum([x**2 for x in works])\n",
    "\n",
    "    return answer"
   ]
  },
  {
   "cell_type": "code",
   "execution_count": null,
   "metadata": {},
   "outputs": [],
   "source": []
  },
  {
   "cell_type": "markdown",
   "metadata": {},
   "source": [
    "Hint. Heap Sort 사용해보기\n",
    "==="
   ]
  },
  {
   "cell_type": "code",
   "execution_count": 51,
   "metadata": {},
   "outputs": [],
   "source": [
    "class Heap:\n",
    "    def __init__(self):\n",
    "        self.heap = []\n",
    "        # index 는 1부터 시작\n",
    "        self.heap.append(None)\n",
    "\n",
    "   # 해당 노드가 부모 노드보다 큰 지 비교\n",
    "    def check_swap_up(self, idx):\n",
    "        # 삽입한 모드의 부모 노드가 없을 경우\n",
    "        if idx <= 1:\n",
    "            return False\n",
    "        \n",
    "        parent_idx = idx // 2\n",
    "\n",
    "        if self.heap[idx] > self.heap[parent_idx]:\n",
    "            return True\n",
    "        else:\n",
    "            return False\n",
    "    \n",
    "    # 데이터 삽입\n",
    "    def insert(self, data):\n",
    "        self.heap.append(data)\n",
    "        idx = len(self.heap) -1\n",
    "\n",
    "        # check_swap_up() 의 값이 True 라면 부모와 위치 바꾸기\n",
    "        while self.check_swap_up(idx):\n",
    "            parent_idx = idx // 2\n",
    "\n",
    "            self.heap[idx], self.heap[parent_idx] = self.heap[parent_idx], self.heap[idx]\n",
    "            idx = parent_idx\n",
    "\n",
    "        return True\n",
    "    \n",
    "    # 해당 노드가 부모 노드보다 큰 지 비교\n",
    "    def check_sap_down(self, idx):\n",
    "        left_idx = idx * 2\n",
    "        right_idx = idx * 2 + 1\n",
    "\n",
    "        # 자식 노드가 하나도 없을 경우\n",
    "        if left_idx >= len(self.heap):\n",
    "            return False\n",
    "        # 왼쪽 자식 노드만 있을 경우\n",
    "        elif right_idx >= len(self.heap):\n",
    "            if self.heap[left_idx] > self.heap[idx]:\n",
    "                self.flag = 1\n",
    "                return True\n",
    "            else:\n",
    "                return False\n",
    "            \n",
    "        # 자식 노드가 모두 있을 경우\n",
    "        else:\n",
    "            if self.heap[left_idx] > self.heap[right_idx]:\n",
    "                if self.heap[left_idx] > self.heap[idx]:\n",
    "                    self.flag = 1\n",
    "                    return True\n",
    "                else:\n",
    "                    return False\n",
    "            else:\n",
    "                if self.heap[right_idx] > self.heap[idx]:\n",
    "                    self.flag = 2\n",
    "                    return True\n",
    "                else :\n",
    "                    return False\n",
    "        \n",
    "    # 데이터 삭제\n",
    "    def pop(self):\n",
    "        if len(self.heap) <= 1:\n",
    "            return None\n",
    "    \n",
    "        max = self.heap[1]\n",
    "        self.heap[1] = self.heap[-1]\n",
    "        del self.heap[-1]\n",
    "        idx = 1\n",
    "\n",
    "        # 0 = False, 1 = (왼쪽 자식과 swap), 2 = (오른쪽 자식과 swap)\n",
    "        self.flag = 0\n",
    "\n",
    "        while self.check_swap_down(idx):\n",
    "            left_idx = idx * 2\n",
    "            right_idx = idx * 2 + 1\n",
    "\n",
    "            if self.flag == 1:\n",
    "                self.heap[idx], self.heap[left_idx] = self.heap[left_idx], self.heap[idx]\n",
    "                idx = left_idx\n",
    "            elif self.flag == 2:\n",
    "                self.heap[idx], self.heap[right_idx] = self.heap[right_idx], self.heap[idx]\n",
    "                idx = right_idx\n",
    "        return max\n"
   ]
  },
  {
   "cell_type": "markdown",
   "metadata": {},
   "source": [
    "**Ideal Answer**\n",
    "===\n",
    "Heap Sort Algorithm\n"
   ]
  },
  {
   "cell_type": "code",
   "execution_count": 61,
   "metadata": {},
   "outputs": [],
   "source": [
    "from heapq import heapify, heappush, heappop\n",
    "\n",
    "def solution(n, works):\n",
    "    # list 를 Heap 으로 변환\n",
    "    heapify(works := [-i for i in works])\n",
    "    \n",
    "    for i in range(min(n, abs(sum(works)))):\n",
    "        heappush(works, heappop(works)+1)\n",
    "\n",
    "    return sum([i*i for i in works])"
   ]
  },
  {
   "cell_type": "code",
   "execution_count": 65,
   "metadata": {},
   "outputs": [
    {
     "data": {
      "text/plain": [
       "13"
      ]
     },
     "execution_count": 65,
     "metadata": {},
     "output_type": "execute_result"
    }
   ],
   "source": [
    "n = 4\n",
    "works = [1, 4, 3, 3]\n",
    "\n",
    "# n = 1\n",
    "# works = [2, 1, 2]\n",
    "\n",
    "# n = 3\n",
    "# works = [1, 1]\n",
    "\n",
    "solution(n, works)"
   ]
  },
  {
   "cell_type": "code",
   "execution_count": null,
   "metadata": {},
   "outputs": [],
   "source": []
  }
 ],
 "metadata": {
  "kernelspec": {
   "display_name": ".venv",
   "language": "python",
   "name": "python3"
  },
  "language_info": {
   "codemirror_mode": {
    "name": "ipython",
    "version": 3
   },
   "file_extension": ".py",
   "mimetype": "text/x-python",
   "name": "python",
   "nbconvert_exporter": "python",
   "pygments_lexer": "ipython3",
   "version": "3.10.12"
  }
 },
 "nbformat": 4,
 "nbformat_minor": 2
}
